{
 "cells": [
  {
   "cell_type": "code",
   "execution_count": 13,
   "id": "f4180ee5",
   "metadata": {},
   "outputs": [],
   "source": [
    "import sys\n",
    "import os\n",
    "\n",
    "# 프로젝트 루트 경로 추가\n",
    "sys.path.append(\"D:/python_lhk/workspace/repository/human-da5-404ERROR/404ERROR\")\n",
    "\n",
    "from app.auth.routes import get_db_connection"
   ]
  },
  {
   "cell_type": "code",
   "execution_count": 15,
   "id": "cd5ca0bb",
   "metadata": {},
   "outputs": [],
   "source": [
    "import pandas as pd"
   ]
  },
  {
   "cell_type": "code",
   "execution_count": 19,
   "id": "4c4604c6",
   "metadata": {},
   "outputs": [
    {
     "name": "stderr",
     "output_type": "stream",
     "text": [
      "C:\\Users\\human\\AppData\\Local\\Temp\\ipykernel_2708\\3435928419.py:2: UserWarning: pandas only supports SQLAlchemy connectable (engine/connection) or database string URI or sqlite3 DBAPI2 connection. Other DBAPI2 objects are not tested. Please consider using SQLAlchemy.\n",
      "  bus = pd.read_sql(f\"SELECT * FROM bus WHERE 자치구 = '강남구'\", conn)\n"
     ]
    }
   ],
   "source": [
    "conn = get_db_connection()  # DB 사용 함수\n",
    "bus = pd.read_sql(f\"SELECT * FROM bus WHERE 자치구 = '강남구'\", conn)\n",
    "conn.close()"
   ]
  },
  {
   "cell_type": "code",
   "execution_count": 14,
   "id": "f491c40b",
   "metadata": {},
   "outputs": [
    {
     "name": "stdout",
     "output_type": "stream",
     "text": [
      "\n",
      "📋 테이블: bus\n",
      "🔑 컬럼 목록:\n",
      " - id (int)\n",
      " - 일시 (varchar(20))\n",
      " - 자치구 (varchar(20))\n",
      " - 승차총승객수 (float)\n",
      " - 하차총승객수 (float)\n",
      "📊 샘플 데이터:\n",
      "{'id': 1, '일시': '20200101', '자치구': '강남구', '승차총승객수': 120028.0, '하차총승객수': 110788.0}\n",
      "{'id': 2, '일시': '20200101', '자치구': '강동구', '승차총승객수': 55315.0, '하차총승객수': 54410.0}\n",
      "{'id': 3, '일시': '20200101', '자치구': '강북구', '승차총승객수': 108699.0, '하차총승객수': 106508.0}\n",
      "{'id': 4, '일시': '20200101', '자치구': '강서구', '승차총승객수': 94028.0, '하차총승객수': 93477.0}\n",
      "{'id': 5, '일시': '20200101', '자치구': '관악구', '승차총승객수': 155048.0, '하차총승객수': 158412.0}\n",
      "\n",
      "📋 테이블: population\n",
      "🔑 컬럼 목록:\n",
      " - id (int)\n",
      " - 일시 (varchar(20))\n",
      " - 시간대구분 (varchar(10))\n",
      " - 자치구 (varchar(20))\n",
      " - 총생활인구수 (float)\n",
      " - 남자미성년자 (float)\n",
      " - 남자청년 (float)\n",
      " - 남자중년 (float)\n",
      " - 남자노년 (float)\n",
      " - 여자미성년자 (float)\n",
      " - 여자청년 (float)\n",
      " - 여자중년 (float)\n",
      " - 여자노년 (float)\n",
      "📊 샘플 데이터:\n",
      "{'id': 1, '일시': '20200101', '시간대구분': '0', '자치구': '종로구', '총생활인구수': 248283.0, '남자미성년자': 16364.5, '남자청년': 44472.5, '남자중년': 45532.7, '남자노년': 16612.9, '여자미성년자': 15688.1, '여자청년': 41430.2, '여자중년': 44086.6, '여자노년': 24095.6}\n",
      "{'id': 2, '일시': '20200101', '시간대구분': '0', '자치구': '중구', '총생활인구수': 187720.0, '남자미성년자': 9974.71, '남자청년': 34884.2, '남자중년': 36396.3, '남자노년': 12104.1, '여자미성년자': 10411.7, '여자청년': 35622.6, '여자중년': 32178.1, '여자노년': 16148.2}\n",
      "{'id': 3, '일시': '20200101', '시간대구분': '0', '자치구': '용산구', '총생활인구수': 292640.0, '남자미성년자': 17702.7, '남자청년': 57483.4, '남자중년': 51369.4, '남자노년': 16887.6, '여자미성년자': 17727.7, '여자청년': 57354.4, '여자중년': 48987.6, '여자노년': 25127.3}\n",
      "{'id': 4, '일시': '20200101', '시간대구분': '0', '자치구': '성동구', '총생활인구수': 333268.0, '남자미성년자': 25119.0, '남자청년': 53483.7, '남자중년': 60857.0, '남자노년': 20441.8, '여자미성년자': 24212.2, '여자청년': 56456.3, '여자중년': 61645.8, '여자노년': 31052.0}\n",
      "{'id': 5, '일시': '20200101', '시간대구분': '0', '자치구': '광진구', '총생활인구수': 390059.0, '남자미성년자': 30517.0, '남자청년': 66547.1, '남자중년': 67576.3, '남자노년': 21915.0, '여자미성년자': 30143.9, '여자청년': 70191.0, '여자중년': 71420.3, '여자노년': 31748.7}\n",
      "\n",
      "📋 테이블: train\n",
      "🔑 컬럼 목록:\n",
      " - id (int)\n",
      " - 일시 (varchar(20))\n",
      " - 자치구 (varchar(20))\n",
      " - 승차총승객수 (float)\n",
      " - 하차총승객수 (float)\n",
      "📊 샘플 데이터:\n",
      "{'id': 1, '일시': '20200101', '자치구': '강남구', '승차총승객수': 195486.0, '하차총승객수': 191443.0}\n",
      "{'id': 2, '일시': '20200101', '자치구': '강동구', '승차총승객수': 69689.0, '하차총승객수': 70369.0}\n",
      "{'id': 3, '일시': '20200101', '자치구': '강북구', '승차총승객수': 41977.0, '하차총승객수': 41002.0}\n",
      "{'id': 4, '일시': '20200101', '자치구': '강서구', '승차총승객수': 116679.0, '하차총승객수': 118011.0}\n",
      "{'id': 5, '일시': '20200101', '자치구': '관악구', '승차총승객수': 61337.0, '하차총승객수': 63849.0}\n",
      "\n",
      "📋 테이블: weather\n",
      "🔑 컬럼 목록:\n",
      " - id (int)\n",
      " - 일시 (varchar(20))\n",
      " - 평균기온 (float)\n",
      " - 최저기온 (float)\n",
      " - 최고기온 (float)\n",
      " - 강수_계속시간 (float)\n",
      " - 일강수량 (float)\n",
      "📊 샘플 데이터:\n",
      "{'id': 1, '일시': '2020-01-01', '평균기온': -2.2, '최저기온': -6.5, '최고기온': 0.3, '강수_계속시간': 9.83, '일강수량': 0.1}\n",
      "{'id': 2, '일시': '2020-01-02', '평균기온': 1.0, '최저기온': -0.7, '최고기온': 3.8, '강수_계속시간': 0.0, '일강수량': 0.0}\n",
      "{'id': 3, '일시': '2020-01-03', '평균기온': -0.1, '최저기온': -3.4, '최고기온': 4.6, '강수_계속시간': 0.0, '일강수량': 0.0}\n",
      "{'id': 4, '일시': '2020-01-04', '평균기온': 1.2, '최저기온': -2.8, '최고기온': 6.1, '강수_계속시간': 0.0, '일강수량': 0.0}\n",
      "{'id': 5, '일시': '2020-01-05', '평균기온': 1.3, '최저기온': -3.2, '최고기온': 6.6, '강수_계속시간': 0.0, '일강수량': 0.0}\n"
     ]
    }
   ],
   "source": [
    "# 확인할 테이블 목록\n",
    "tables = ['bus', 'population', 'train', 'weather']\n",
    "\n",
    "conn = get_db_connection()  # DB 사용 함수\n",
    "cursor = conn.cursor(dictionary=True)  # dictionary=True로 결과를 딕셔너리 형식으로 받음\n",
    "\n",
    "for table in tables:\n",
    "    cursor.execute(f\"DESCRIBE {table}\")  # DB 칼럼 조회\n",
    "    columns = cursor.fetchall()\n",
    "    print(f\"\\n📋 테이블: {table}\")\n",
    "    print(\"🔑 컬럼 목록:\")\n",
    "    for col in columns:\n",
    "        print(f\" - {col['Field']} ({col['Type']})\")  # 'Field'와 'Type'으로 딕셔너리에서 접근\n",
    "\n",
    "    # 2. 테이블 데이터 일부 조회\n",
    "    cursor.execute(f\"SELECT * FROM {table} LIMIT 5\")\n",
    "    rows = cursor.fetchall()\n",
    "    print(\"📊 샘플 데이터:\")\n",
    "    for row in rows:\n",
    "        print(row)\n",
    "\n",
    "cursor.close()\n",
    "conn.close()"
   ]
  }
 ],
 "metadata": {
  "kernelspec": {
   "display_name": "minipro-311",
   "language": "python",
   "name": "python3"
  },
  "language_info": {
   "codemirror_mode": {
    "name": "ipython",
    "version": 3
   },
   "file_extension": ".py",
   "mimetype": "text/x-python",
   "name": "python",
   "nbconvert_exporter": "python",
   "pygments_lexer": "ipython3",
   "version": "3.11.11"
  }
 },
 "nbformat": 4,
 "nbformat_minor": 5
}
